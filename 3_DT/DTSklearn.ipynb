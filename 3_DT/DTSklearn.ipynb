{
 "metadata": {
  "language_info": {
   "codemirror_mode": {
    "name": "ipython",
    "version": 3
   },
   "file_extension": ".py",
   "mimetype": "text/x-python",
   "name": "python",
   "nbconvert_exporter": "python",
   "pygments_lexer": "ipython3",
   "version": "3.7.7-final"
  },
  "orig_nbformat": 2,
  "kernelspec": {
   "name": "python3",
   "display_name": "Python 3.7.7 64-bit ('tensorflow-gpu': conda)",
   "metadata": {
    "interpreter": {
     "hash": "5683effc006db3b1c4689a623e2360bf9675d37d543b724f66752a231dd1539b"
    }
   }
  }
 },
 "nbformat": 4,
 "nbformat_minor": 2,
 "cells": [
  {
   "cell_type": "code",
   "execution_count": 1,
   "metadata": {},
   "outputs": [],
   "source": [
    "import numpy as np\n",
    "from sklearn import tree\n",
    "from sklearn.metrics import precision_recall_curve\n",
    "from sklearn.metrics import classification_report\n",
    "from sklearn.model_selection import train_test_split"
   ]
  },
  {
   "cell_type": "code",
   "execution_count": 12,
   "metadata": {},
   "outputs": [],
   "source": [
    "def createDataSet():\n",
    "    ''' 数据读入 '''\n",
    "    data = []\n",
    "    labels = []\n",
    "    with open(\"../data\\\\3.DecisionTree\\\\data.txt\") as ifile:\n",
    "        for line in ifile:\n",
    "            # 特征:  身高 体重   label:  胖瘦\n",
    "            tokens = line.strip().split(' ')\n",
    "            data.append([float(tk) for tk in tokens[:-1]])\n",
    "            labels.append(tokens[-1])\n",
    "    # 特征数据\n",
    "    x = np.array(data)\n",
    "    # label分类的标签数据\n",
    "    labels = np.array(labels)\n",
    "    # 预估结果的标签数据\n",
    "    y = np.zeros(labels.shape)\n",
    "\n",
    "    ''' 标签转换为0/1 '''\n",
    "    y[labels == 'fat'] = 1\n",
    "    print(data, '-------', x, '-------', labels, '-------', y)\n",
    "    return x, y"
   ]
  },
  {
   "cell_type": "code",
   "execution_count": 3,
   "metadata": {},
   "outputs": [],
   "source": [
    "def predict_train(x_train, y_train):\n",
    "    '''\n",
    "    使用信息熵作为划分标准，对决策树进行训练\n",
    "    参考链接:  http://scikit-learn.org/stable/modules/generated/sklearn.tree.DecisionTreeClassifier.html#sklearn.tree.DecisionTreeClassifier\n",
    "    '''\n",
    "    clf = tree.DecisionTreeClassifier(criterion='entropy')\n",
    "    # print(clf)\n",
    "    clf.fit(x_train, y_train)\n",
    "    ''' 系数反映每个特征的影响力。越大表示该特征在分类中起到的作用越大 '''\n",
    "    print('feature_importances_: %s' % clf.feature_importances_)\n",
    "\n",
    "    '''测试结果的打印'''\n",
    "    y_pre = clf.predict(x_train)\n",
    "    # print(x_train)\n",
    "    print(y_pre)\n",
    "    print(y_train)\n",
    "    print(np.mean(y_pre == y_train))\n",
    "    return y_pre, clf"
   ]
  },
  {
   "cell_type": "code",
   "execution_count": 24,
   "metadata": {},
   "outputs": [],
   "source": [
    "def show_precision_recall(x, y, clf,  y_train, y_pre):\n",
    "    '''\n",
    "    准确率与召回率\n",
    "    参考链接:  http://scikit-learn.org/stable/modules/generated/sklearn.metrics.precision_recall_curve.html#sklearn.metrics.precision_recall_curve\n",
    "    '''\n",
    "    precision, recall, thresholds = precision_recall_curve(y_train, y_pre)\n",
    "\n",
    "    # 计算全量的预估结果\n",
    "    answer = clf.predict_proba(x)[:, 1]\n",
    "\n",
    "    '''\n",
    "    展现 准确率与召回率\n",
    "        precision 准确率\n",
    "        recall 召回率\n",
    "        f1-score  准确率和召回率的一个综合得分\n",
    "        support 参与比较的数量\n",
    "    参考链接: http://scikit-learn.org/stable/modules/generated/sklearn.metrics.classification_report.html#sklearn.metrics.classification_report\n",
    "    '''\n",
    "    # target_names 以 y的label分类为准\n",
    "    target_names = ['thin', 'fat']\n",
    "    print(classification_report(y, answer, target_names=target_names))\n",
    "    print(answer)\n",
    "    print(y)"
   ]
  },
  {
   "cell_type": "code",
   "execution_count": 14,
   "metadata": {},
   "outputs": [
    {
     "output_type": "stream",
     "name": "stdout",
     "text": [
      "[[1.5, 50.0], [1.5, 60.0], [1.6, 40.0], [1.6, 60.0], [1.7, 60.0], [1.7, 80.0], [1.8, 60.0], [1.8, 90.0], [1.9, 70.0], [1.9, 80.0]] ------- [[ 1.5 50. ]\n [ 1.5 60. ]\n [ 1.6 40. ]\n [ 1.6 60. ]\n [ 1.7 60. ]\n [ 1.7 80. ]\n [ 1.8 60. ]\n [ 1.8 90. ]\n [ 1.9 70. ]\n [ 1.9 80. ]] ------- ['thin' 'fat' 'thin' 'fat' 'thin' 'fat' 'thin' 'fat' 'thin' 'thin'] ------- [0. 1. 0. 1. 0. 1. 0. 1. 0. 0.]\n"
     ]
    }
   ],
   "source": [
    "x, y = createDataSet()\n",
    "\n",
    "''' 拆分训练数据与测试数据， 80%做训练 20%做测试 '''\n",
    "x_train, x_test, y_train, y_test = train_test_split(x, y, test_size=0.2)\n",
    "# print('拆分数据: ', x_train, x_test, y_train, y_test)"
   ]
  },
  {
   "cell_type": "code",
   "execution_count": 15,
   "metadata": {},
   "outputs": [
    {
     "output_type": "stream",
     "name": "stdout",
     "text": [
      "feature_importances_: [0.51079154 0.48920846]\n[0. 0. 0. 1. 0. 1. 1. 0.]\n[0. 0. 0. 1. 0. 1. 1. 0.]\n1.0\n"
     ]
    }
   ],
   "source": [
    "# 得到训练的预测结果集\n",
    "y_pre, clf = predict_train(x_train, y_train)\n"
   ]
  },
  {
   "cell_type": "code",
   "execution_count": 25,
   "metadata": {},
   "outputs": [
    {
     "output_type": "error",
     "ename": "TypeError",
     "evalue": "__init__() missing 2 required positional arguments: 'roc_auc' and 'estimator_name'",
     "traceback": [
      "\u001b[1;31m---------------------------------------------------------------------------\u001b[0m",
      "\u001b[1;31mTypeError\u001b[0m                                 Traceback (most recent call last)",
      "\u001b[1;32m<ipython-input-25-a5ce10e7480c>\u001b[0m in \u001b[0;36m<module>\u001b[1;34m\u001b[0m\n\u001b[0;32m      1\u001b[0m \u001b[1;31m# 展现 准确率与召回率\u001b[0m\u001b[1;33m\u001b[0m\u001b[1;33m\u001b[0m\u001b[1;33m\u001b[0m\u001b[0m\n\u001b[1;32m----> 2\u001b[1;33m \u001b[0mshow_precision_recall\u001b[0m\u001b[1;33m(\u001b[0m\u001b[0mx\u001b[0m\u001b[1;33m,\u001b[0m \u001b[0my\u001b[0m\u001b[1;33m,\u001b[0m \u001b[0mclf\u001b[0m\u001b[1;33m,\u001b[0m \u001b[0my_train\u001b[0m\u001b[1;33m,\u001b[0m \u001b[0my_pre\u001b[0m\u001b[1;33m)\u001b[0m\u001b[1;33m\u001b[0m\u001b[1;33m\u001b[0m\u001b[0m\n\u001b[0m",
      "\u001b[1;32m<ipython-input-24-1c83cd6d42f4>\u001b[0m in \u001b[0;36mshow_precision_recall\u001b[1;34m(x, y, clf, y_train, y_pre)\u001b[0m\n\u001b[0;32m     15\u001b[0m     \u001b[1;32mfrom\u001b[0m \u001b[0msklearn\u001b[0m\u001b[1;33m.\u001b[0m\u001b[0mmetrics\u001b[0m \u001b[1;32mimport\u001b[0m \u001b[0mRocCurveDisplay\u001b[0m\u001b[1;33m\u001b[0m\u001b[1;33m\u001b[0m\u001b[0m\n\u001b[0;32m     16\u001b[0m     \u001b[0mfpr\u001b[0m\u001b[1;33m,\u001b[0m \u001b[0mtpr\u001b[0m\u001b[1;33m,\u001b[0m \u001b[0m_\u001b[0m \u001b[1;33m=\u001b[0m \u001b[0mroc_curve\u001b[0m\u001b[1;33m(\u001b[0m\u001b[0my_train\u001b[0m\u001b[1;33m,\u001b[0m \u001b[0my_pre\u001b[0m\u001b[1;33m,\u001b[0m \u001b[0mpos_label\u001b[0m\u001b[1;33m=\u001b[0m\u001b[0mclf\u001b[0m\u001b[1;33m.\u001b[0m\u001b[0mclasses_\u001b[0m\u001b[1;33m[\u001b[0m\u001b[1;36m1\u001b[0m\u001b[1;33m]\u001b[0m\u001b[1;33m)\u001b[0m\u001b[1;33m\u001b[0m\u001b[1;33m\u001b[0m\u001b[0m\n\u001b[1;32m---> 17\u001b[1;33m     \u001b[0mroc_display\u001b[0m \u001b[1;33m=\u001b[0m \u001b[0mRocCurveDisplay\u001b[0m\u001b[1;33m(\u001b[0m\u001b[0mfpr\u001b[0m\u001b[1;33m=\u001b[0m\u001b[0mfpr\u001b[0m\u001b[1;33m,\u001b[0m \u001b[0mtpr\u001b[0m\u001b[1;33m=\u001b[0m\u001b[0mtpr\u001b[0m\u001b[1;33m)\u001b[0m\u001b[1;33m.\u001b[0m\u001b[0mplot\u001b[0m\u001b[1;33m(\u001b[0m\u001b[1;33m)\u001b[0m\u001b[1;33m\u001b[0m\u001b[1;33m\u001b[0m\u001b[0m\n\u001b[0m\u001b[0;32m     18\u001b[0m \u001b[1;33m\u001b[0m\u001b[0m\n\u001b[0;32m     19\u001b[0m     \u001b[1;31m# 计算全量的预估结果\u001b[0m\u001b[1;33m\u001b[0m\u001b[1;33m\u001b[0m\u001b[1;33m\u001b[0m\u001b[0m\n",
      "\u001b[1;31mTypeError\u001b[0m: __init__() missing 2 required positional arguments: 'roc_auc' and 'estimator_name'"
     ]
    }
   ],
   "source": [
    "# 展现 准确率与召回率\n",
    "show_precision_recall(x, y, clf, y_train, y_pre)"
   ]
  },
  {
   "cell_type": "code",
   "execution_count": null,
   "metadata": {},
   "outputs": [],
   "source": [
    "\n"
   ]
  }
 ]
}